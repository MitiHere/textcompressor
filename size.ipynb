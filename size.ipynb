{
 "cells": [
  {
   "cell_type": "code",
   "execution_count": 2,
   "metadata": {},
   "outputs": [],
   "source": [
    "def get_bytes_needed(value):\n",
    "    if value <= 0xFF:\n",
    "        return 1  # 1 byte for values up to 255\n",
    "    elif value <= 0xFFFF:\n",
    "        return 2  # 2 bytes for values up to 65535\n",
    "    elif value <= 0xFFFFFF:\n",
    "        return 3  # 3 bytes for values up to 16777215\n",
    "    else:\n",
    "        return 4  # 4 bytes for values up to 4294967295\n"
   ]
  },
  {
   "cell_type": "code",
   "execution_count": 3,
   "metadata": {},
   "outputs": [
    {
     "name": "stdout",
     "output_type": "stream",
     "text": [
      "Number of unique words: 1586\n",
      "Number of bytes needed to store unique word count: 2 bytes\n",
      "Total number of words in the text: 3917\n",
      "Result (Total word count * bytes needed): 7834 bytes\n"
     ]
    }
   ],
   "source": [
    "import os\n",
    "\n",
    "# Step 1: Read the file and tokenize it into words\n",
    "file_path = \"./mains/text.txt\"  # Replace with your file path\n",
    "with open(file_path, 'r') as file:\n",
    "    text = file.read()\n",
    "    words = text.split()\n",
    "\n",
    "# Step 2: Count the number of unique words\n",
    "unique_words = set(words)\n",
    "unique_word_count = len(unique_words)\n",
    "\n",
    "# Step 3: Calculate the number of bytes required to store this count\n",
    "bytes_needed = get_bytes_needed(unique_word_count)\n",
    "\n",
    "# Step 4: Count the total number of words in the text (as sequences of characters between two spaces)\n",
    "total_word_count = len(text.split())\n",
    "\n",
    "# Step 5: Multiply the number of words by the size needed to store the count of unique words\n",
    "result = total_word_count * bytes_needed\n",
    "\n",
    "print(f\"Number of unique words: {unique_word_count}\")\n",
    "print(f\"Number of bytes needed to store unique word count: {bytes_needed} bytes\")\n",
    "print(f\"Total number of words in the text: {total_word_count}\")\n",
    "print(f\"Result (Total word count * bytes needed): {result} bytes\")\n"
   ]
  },
  {
   "cell_type": "code",
   "execution_count": null,
   "metadata": {},
   "outputs": [],
   "source": []
  }
 ],
 "metadata": {
  "kernelspec": {
   "display_name": "Python 3",
   "language": "python",
   "name": "python3"
  },
  "language_info": {
   "codemirror_mode": {
    "name": "ipython",
    "version": 3
   },
   "file_extension": ".py",
   "mimetype": "text/x-python",
   "name": "python",
   "nbconvert_exporter": "python",
   "pygments_lexer": "ipython3",
   "version": "3.11.5"
  }
 },
 "nbformat": 4,
 "nbformat_minor": 2
}
