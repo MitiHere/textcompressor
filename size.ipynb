{
 "cells": [
  {
   "cell_type": "code",
   "execution_count": 8,
   "metadata": {},
   "outputs": [],
   "source": [
    "def get_bytes_needed(value):\n",
    "    if value <= 0xFF:\n",
    "        return 1  # 1 byte for values up to 255\n",
    "    elif value <= 0xFFFF:\n",
    "        return 2  # 2 bytes for values up to 65535\n",
    "    elif value <= 0xFFFFFF:\n",
    "        return 3  # 3 bytes for values up to 16777215\n",
    "    else:\n",
    "        return 4  # 4 bytes for values up to 4294967295"
   ]
  },
  {
   "cell_type": "code",
   "execution_count": 26,
   "metadata": {},
   "outputs": [],
   "source": [
    "import sys\n",
    "import os\n",
    "def calculate_dictionnary_size(strings,unique_word_count,bytes_needed):\n",
    "    total_size = 0\n",
    "    for string in strings:\n",
    "        total_size += sys.getsizeof(string) + bytes_needed\n",
    "    return total_size"
   ]
  },
  {
   "cell_type": "code",
   "execution_count": 27,
   "metadata": {},
   "outputs": [],
   "source": [
    "def is_it_usefull(file_str):\n",
    "    with open(file_str, 'r') as file:\n",
    "        text = file.read()\n",
    "        words = text.split()\n",
    "\n",
    "    unique_words = set(words)\n",
    "    unique_word_count = len(unique_words)\n",
    "    \n",
    "    bytes_needed = get_bytes_needed(unique_word_count)\n",
    "\n",
    "    total_word_count = len(text.split())\n",
    "    dictionarysize = calculate_dictionnary_size(unique_words,unique_word_count,bytes_needed)\n",
    "\n",
    "    compressed_txt = total_word_count * bytes_needed\n",
    "    total = dictionarysize + compressed_txt\n",
    "    print(f\"Current size of the text file : {os.path.getsize(file_str)} bytes\")\n",
    "    print(f\"Size of the compressed file {total} bytes\")\n"
   ]
  },
  {
   "cell_type": "code",
   "execution_count": 28,
   "metadata": {},
   "outputs": [
    {
     "name": "stdout",
     "output_type": "stream",
     "text": [
      "Current size of the text file : 75047 bytes\n",
      "Size of the compressed file 177120 bytes\n"
     ]
    }
   ],
   "source": [
    "is_it_usefull(\"./mains/constitution.txt\")"
   ]
  }
 ],
 "metadata": {
  "kernelspec": {
   "display_name": "Python 3",
   "language": "python",
   "name": "python3"
  },
  "language_info": {
   "codemirror_mode": {
    "name": "ipython",
    "version": 3
   },
   "file_extension": ".py",
   "mimetype": "text/x-python",
   "name": "python",
   "nbconvert_exporter": "python",
   "pygments_lexer": "ipython3",
   "version": "3.11.7"
  }
 },
 "nbformat": 4,
 "nbformat_minor": 2
}
